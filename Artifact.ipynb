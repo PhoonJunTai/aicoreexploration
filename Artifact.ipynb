{
 "cells": [
  {
   "cell_type": "code",
   "execution_count": 1,
   "id": "15d2a416-2d53-4e77-bef7-1f45dcebe311",
   "metadata": {},
   "outputs": [],
   "source": [
    "# Load Library\n",
    "from ai_core_sdk.ai_core_v2_client import AICoreV2Client\n",
    "\n",
    " \n",
    "\n",
    "# Create Connection\n",
    "ai_core_client = AICoreV2Client(\n",
    "    base_url = \"https://api.ai.prod.us-east-1.aws.ml.hana.ondemand.com\" + \"/v2\", # The present SAP AI Core API version is 2\n",
    "    auth_url=  \"https://eyts-developer-z8opke6n.authentication.us10.hana.ondemand.com\" + \"/oauth/token\", # Suffix to add\n",
    "    client_id = \"sb-404097ed-1399-4e18-96b0-b93e2fb756fd!b125355|aicore!b164\",\n",
    "    client_secret = \"7f9a435e-df38-4e5e-b29f-d4af04659de5$DPA9R0yPgeIv3KY9h52Kj2xkBIWyvsdph5AucAs-klw=\"\n",
    ")"
   ]
  },
  {
   "cell_type": "code",
   "execution_count": null,
   "id": "e5cb36da",
   "metadata": {},
   "outputs": [],
   "source": []
  },
  {
   "cell_type": "code",
   "execution_count": null,
   "id": "39912e68",
   "metadata": {},
   "outputs": [],
   "source": []
  },
  {
   "cell_type": "code",
   "execution_count": 2,
   "id": "bee6f32d-9997-468b-802b-148b8d1b0fbb",
   "metadata": {},
   "outputs": [
    {
     "name": "stdout",
     "output_type": "stream",
     "text": [
      "3\n"
     ]
    }
   ],
   "source": [
    "response = ai_core_client.repositories.query()\n",
    "print(response.count)"
   ]
  },
  {
   "cell_type": "code",
   "execution_count": null,
   "id": "0b2df0a4",
   "metadata": {},
   "outputs": [],
   "source": []
  },
  {
   "cell_type": "code",
   "execution_count": null,
   "id": "dfdb413c",
   "metadata": {},
   "outputs": [],
   "source": []
  },
  {
   "cell_type": "code",
   "execution_count": 3,
   "id": "75853c57-a32e-4fe7-884e-fdccf54cf83e",
   "metadata": {},
   "outputs": [
    {
     "name": "stdout",
     "output_type": "stream",
     "text": [
      "['__class__', '__delattr__', '__dict__', '__dir__', '__doc__', '__eq__', '__format__', '__ge__', '__getattribute__', '__gt__', '__hash__', '__init__', '__init_subclass__', '__le__', '__lt__', '__module__', '__ne__', '__new__', '__reduce__', '__reduce_ex__', '__repr__', '__setattr__', '__sizeof__', '__str__', '__subclasshook__', '__weakref__', 'applications', 'artifact', 'base_url', 'configuration', 'deployment', 'docker_registry_secrets', 'executable', 'execution', 'kpis', 'meta', 'metrics', 'object_store_secrets', 'repositories', 'resource_groups', 'rest_client', 'scenario', 'secrets']\n"
     ]
    }
   ],
   "source": [
    "print(dir(ai_core_client))"
   ]
  },
  {
   "cell_type": "code",
   "execution_count": null,
   "id": "2cfef877",
   "metadata": {},
   "outputs": [],
   "source": []
  },
  {
   "cell_type": "code",
   "execution_count": null,
   "id": "2f33839f",
   "metadata": {},
   "outputs": [],
   "source": []
  },
  {
   "cell_type": "code",
   "execution_count": 4,
   "id": "675b62f5-ed51-4996-9b87-d5da541b8142",
   "metadata": {},
   "outputs": [
    {
     "name": "stdout",
     "output_type": "stream",
     "text": [
      "{'id': 'a91efa5e-cac6-4b32-8cde-62f76dc5daa1', 'message': 'Artifact acknowledged', 'url': 'ai://eyctpazure/data/jan'}\n"
     ]
    }
   ],
   "source": [
    "# Create Artifact\n",
    "from ai_api_client_sdk.models.artifact import Artifact\n",
    "from ai_api_client_sdk.models.label import Label\n",
    "\n",
    " \n",
    "\n",
    "response = ai_core_client.artifact.create(\n",
    "    name = \"HousePrice101\", # Custom Non-unqiue identifier\n",
    "    kind = Artifact.Kind.DATASET,\n",
    "    url = \"ai://eyctpazure/data/jan\", #\n",
    "    scenario_id = \"learningjt\",\n",
    "    description = \"Prices in the month of Jan\",\n",
    "    labels = [\n",
    "        Label(key=\"ext.ai.sap.com/month\", value=\"Jan\"), # any descriptive key-value pair, helps in filtering, key must have the prefix ext.ai.sap.com/\n",
    "    ],\n",
    "    resource_group = \"default\" # required to restrict object store secret usage within a resource group\n",
    ")\n",
    "\n",
    " \n",
    "\n",
    "print(response.__dict__)"
   ]
  },
  {
   "cell_type": "code",
   "execution_count": null,
   "id": "4ee9be4c",
   "metadata": {},
   "outputs": [],
   "source": []
  },
  {
   "cell_type": "code",
   "execution_count": null,
   "id": "3282af7a",
   "metadata": {},
   "outputs": [],
   "source": []
  },
  {
   "cell_type": "code",
   "execution_count": 5,
   "id": "8eb35514-957e-4bb8-b6ed-2aa1e508e80a",
   "metadata": {},
   "outputs": [
    {
     "name": "stdout",
     "output_type": "stream",
     "text": [
      "{'id': '1f55d0cd-8188-498b-8437-9b39a2fadaf5', 'message': 'Artifact acknowledged', 'url': 'ai://eyctpazure/data/feb'}\n"
     ]
    }
   ],
   "source": [
    "# Create Artifact\n",
    "response = ai_core_client.artifact.create(\n",
    "    name = \"HousePrice201\",\n",
    "    kind = Artifact.Kind.DATASET,\n",
    "    url = \"ai://eyctpazure/data/feb\",\n",
    "    scenario_id = \"learningjt\",\n",
    "    description = \"Prices in the month of Feb\",\n",
    "    labels = [\n",
    "        Label(key=\"ext.ai.sap.com/month\", value=\"Feb\"),\n",
    "    ],\n",
    "    resource_group = \"default\"\n",
    ")\n",
    "\n",
    " \n",
    "\n",
    "print(response.__dict__)"
   ]
  },
  {
   "cell_type": "code",
   "execution_count": null,
   "id": "dba02c6a",
   "metadata": {},
   "outputs": [],
   "source": []
  },
  {
   "cell_type": "code",
   "execution_count": null,
   "id": "280d2772",
   "metadata": {},
   "outputs": [],
   "source": []
  },
  {
   "cell_type": "code",
   "execution_count": 6,
   "id": "40a4a1d5-e999-4df0-a08a-121b4175424f",
   "metadata": {},
   "outputs": [
    {
     "data": {
      "text/plain": [
       "{'id': 'e5b756d1837cf327',\n",
       " 'message': 'Execution scheduled',\n",
       " 'status': <Status.UNKNOWN: 'UNKNOWN'>}"
      ]
     },
     "execution_count": 6,
     "metadata": {},
     "output_type": "execute_result"
    }
   ],
   "source": [
    "response = ai_core_client.execution.create(\n",
    "    configuration_id = 'af74ff27-70bb-4630-a7b8-f1f7aa0728ed',\n",
    "    resource_group = 'default'\n",
    ")\n",
    "\n",
    " \n",
    "\n",
    "response.__dict__"
   ]
  },
  {
   "cell_type": "code",
   "execution_count": null,
   "id": "a67becea",
   "metadata": {},
   "outputs": [],
   "source": []
  },
  {
   "cell_type": "code",
   "execution_count": null,
   "id": "c36315a2",
   "metadata": {},
   "outputs": [],
   "source": []
  },
  {
   "cell_type": "code",
   "execution_count": 7,
   "id": "d13364b2-ad17-45d1-912b-d257c91d4b1e",
   "metadata": {},
   "outputs": [],
   "source": [
    "from datetime import datetime\n",
    "# show execution logs\n",
    "response = ai_core_client.execution.query_logs(\n",
    "    execution_id = 'e5b756d1837cf327',\n",
    "    resource_group = 'default',\n",
    "    start = datetime(1990, 1, 1) # Optional, else shows logs of last 1 hour\n",
    ")\n",
    "\n",
    " \n",
    "\n",
    "for log in response.data.result:\n",
    "    print(log.__dict__)"
   ]
  },
  {
   "cell_type": "code",
   "execution_count": null,
   "id": "d481a40d",
   "metadata": {},
   "outputs": [],
   "source": []
  },
  {
   "cell_type": "code",
   "execution_count": null,
   "id": "b0525a27",
   "metadata": {},
   "outputs": [],
   "source": []
  },
  {
   "cell_type": "code",
   "execution_count": null,
   "id": "72048f1c",
   "metadata": {},
   "outputs": [],
   "source": []
  },
  {
   "cell_type": "code",
   "execution_count": 8,
   "id": "1f9c11e8-8747-4075-b9df-accc1d0e89d4",
   "metadata": {},
   "outputs": [
    {
     "name": "stdout",
     "output_type": "stream",
     "text": [
      "{'id': '9e08a979-18ba-42ef-8ffa-9378068951fd', 'message': 'Configuration created'}\n"
     ]
    }
   ],
   "source": [
    "from ai_api_client_sdk.models.parameter_binding import ParameterBinding\n",
    "from ai_api_client_sdk.models.input_artifact_binding import InputArtifactBinding\n",
    "\n",
    "response = ai_core_client.configuration.create(\n",
    "    name = \"AZHouse Price January 1\",\n",
    "    scenario_id = \"learningjt\",\n",
    "    executable_id = \"data-pipelinecopied\",\n",
    "    input_artifact_bindings = [\n",
    "        InputArtifactBinding(key = \"housedataset\", artifact_id = \"a91efa5e-cac6-4b32-8cde-62f76dc5daa1\") # placeholder as name\n",
    "    ],\n",
    "    parameter_bindings = [\n",
    "        ParameterBinding(key = \"DT_MAX_DEPTH\", value = \"3\") # placeholder name as key\n",
    "    ],\n",
    "    resource_group = \"default\"\n",
    ")\n",
    "print(response.__dict__)"
   ]
  },
  {
   "cell_type": "code",
   "execution_count": null,
   "id": "23ce1adc",
   "metadata": {},
   "outputs": [],
   "source": []
  },
  {
   "cell_type": "code",
   "execution_count": null,
   "id": "e9d4ddef",
   "metadata": {},
   "outputs": [],
   "source": []
  },
  {
   "cell_type": "code",
   "execution_count": null,
   "id": "fd1dfeb9",
   "metadata": {},
   "outputs": [],
   "source": []
  },
  {
   "cell_type": "code",
   "execution_count": null,
   "id": "13f84370",
   "metadata": {},
   "outputs": [],
   "source": []
  },
  {
   "cell_type": "code",
   "execution_count": null,
   "id": "a3b40f58",
   "metadata": {},
   "outputs": [],
   "source": []
  },
  {
   "cell_type": "code",
   "execution_count": null,
   "id": "453815da-9887-47d8-a8f9-7d3c9cff79b1",
   "metadata": {},
   "outputs": [],
   "source": []
  }
 ],
 "metadata": {
  "kernelspec": {
   "display_name": "Python 3 (ipykernel)",
   "language": "python",
   "name": "python3"
  },
  "language_info": {
   "codemirror_mode": {
    "name": "ipython",
    "version": 3
   },
   "file_extension": ".py",
   "mimetype": "text/x-python",
   "name": "python",
   "nbconvert_exporter": "python",
   "pygments_lexer": "ipython3",
   "version": "3.9.2"
  }
 },
 "nbformat": 4,
 "nbformat_minor": 5
}
